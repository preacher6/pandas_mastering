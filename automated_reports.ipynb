{
 "metadata": {
  "language_info": {
   "codemirror_mode": {
    "name": "ipython",
    "version": 3
   },
   "file_extension": ".py",
   "mimetype": "text/x-python",
   "name": "python",
   "nbconvert_exporter": "python",
   "pygments_lexer": "ipython3",
   "version": "3.8.6-final"
  },
  "orig_nbformat": 2,
  "kernelspec": {
   "name": "python3",
   "display_name": "Python 3",
   "language": "python"
  }
 },
 "nbformat": 4,
 "nbformat_minor": 2,
 "cells": [
  {
   "cell_type": "code",
   "execution_count": 1,
   "metadata": {},
   "outputs": [],
   "source": [
    "import pandas as pd\n",
    "\n",
    "from openpyxl import load_workbook\n",
    "from openpyxl.styles import Font\n",
    "from openpyxl.chart import BarChart, Reference"
   ]
  },
  {
   "cell_type": "code",
   "execution_count": 2,
   "metadata": {},
   "outputs": [
    {
     "output_type": "stream",
     "name": "stdout",
     "text": [
      "        Date Region                 Type  Units  Sales\n0 2020-07-11   East  Children's Clothing   18.0    306\n1 2020-09-23  North  Children's Clothing   14.0    448\n2 2020-04-02  South     Women's Clothing   17.0    425\n3 2020-02-28   East  Children's Clothing   26.0    832\n4 2020-03-19   West     Women's Clothing    3.0     33\n"
     ]
    }
   ],
   "source": [
    "# Section 2 - Loading our Data\n",
    "df = pd.read_excel('https://github.com/datagy/pivot_table_pandas/raw/master/sample_pivot.xlsx', parse_dates=['Date'])\n",
    "print(df.head())"
   ]
  },
  {
   "cell_type": "code",
   "execution_count": 4,
   "metadata": {},
   "outputs": [
    {
     "output_type": "stream",
     "name": "stdout",
     "text": [
      "Quarterly Sales Pivot Table:\nType  Children's Clothing  Men's Clothing  Women's Clothing\nDate                                                       \n1                   12274           13293             16729\n2                    5496           17817             22384\n3                   14463            9622             15065\n4                   13616           10953             16051\n"
     ]
    }
   ],
   "source": [
    "# Section 3 - Testing Pivot Tables\n",
    "# dt.quarter divide el la serie de tiempo en 4 partes y asigna un valor entero a cada indice dependiendo de la porcion en que se encuentre\n",
    "filtered = df[df['Region'] == 'East']\n",
    "quarterly_sales = pd.pivot_table(filtered, index = filtered['Date'].dt.quarter, columns = 'Type', values = 'Sales', aggfunc='sum')\n",
    "\n",
    "print(\"Quarterly Sales Pivot Table:\")\n",
    "print(quarterly_sales)"
   ]
  },
  {
   "cell_type": "code",
   "execution_count": 35,
   "metadata": {},
   "outputs": [],
   "source": [
    "# Section 04 - Creating and Excel Workbook\n",
    "file_path = 'output/pivot_saved.xlsx'\n",
    "quarterly_sales.to_excel(file_path, sheet_name = 'Quarterly Sales', startrow=3)"
   ]
  },
  {
   "cell_type": "code",
   "execution_count": 36,
   "metadata": {},
   "outputs": [],
   "source": [
    "# Section 05 - Loading the Workbook\n",
    "wb = load_workbook(file_path)\n",
    "sheet1 = wb['Quarterly Sales']\n",
    "\n",
    "# Section 06 - Formatting the First Sheet\n",
    "sheet1['A1'] = 'Quarterly Sales'\n",
    "sheet1['A2'] = 'datagy.io'\n",
    "sheet1['A4'] = 'Quarter'\n",
    "\n",
    "sheet1['A1'].style = 'Title'\n",
    "sheet1['A2'].style = 'Headline 2'\n",
    "\n",
    "for i in range(5, 9):\n",
    "    sheet1[f'B{i}'].style='Currency'\n",
    "    sheet1[f'C{i}'].style='Currency'\n",
    "    sheet1[f'D{i}'].style='Currency'\n",
    "\n",
    "# Section 07 - Adding a Bar Chart   \n",
    "bar_chart = BarChart()\n",
    "data = Reference(sheet1, min_col=2, max_col=4, min_row=4, max_row=8)\n",
    "categories = Reference(sheet1, min_col=1, max_col=1, min_row=5, max_row=8)\n",
    "bar_chart.add_data(data, titles_from_data=True)\n",
    "bar_chart.set_categories(categories)\n",
    "sheet1.add_chart(bar_chart, \"F4\")\n",
    "\n",
    "bar_chart.title = 'Sales by Type'\n",
    "bar_chart.style = 3\n",
    "wb.save(filename = file_path)"
   ]
  },
  {
   "cell_type": "code",
   "execution_count": 39,
   "metadata": {},
   "outputs": [],
   "source": [
    "# Section 08 - Getting Region Names\n",
    "regions = list(df['Region'].unique())\n",
    "\n",
    "# Section 09 - Looping Over All Regions\n",
    "folder_path = 'output/regions'\n",
    "\n",
    "for region in regions:\n",
    "    filtered = df[df['Region'] == f'{region}']\n",
    "    quarterly_sales = pd.pivot_table(filtered, index = filtered['Date'].dt.quarter, columns = 'Type', values = 'Sales', aggfunc='sum')\n",
    "    file_path = f\"{folder_path}{region}.xlsx\"\n",
    "    quarterly_sales.to_excel(file_path, sheet_name = 'Quarterly Sales', startrow=3)\n",
    "    \n",
    "    wb = load_workbook(file_path)\n",
    "    sheet1 = wb['Quarterly Sales']\n",
    "    \n",
    "    sheet1['A1'] = 'Quarterly Sales'\n",
    "    sheet1['A2'] = 'datagy.io'\n",
    "    sheet1['A4'] = 'Quarter'\n",
    "\n",
    "    sheet1['A1'].style = 'Title'\n",
    "    sheet1['A2'].style = 'Headline 2'\n",
    "\n",
    "    for i in range(5, 10):\n",
    "        sheet1[f'B{i}'].style='Currency'\n",
    "        sheet1[f'C{i}'].style='Currency'\n",
    "        sheet1[f'D{i}'].style='Currency'\n",
    "\n",
    "    bar_chart = BarChart()\n",
    "    data = Reference(sheet1, min_col=2, max_col=4, min_row=4, max_row=8)\n",
    "    categories = Reference(sheet1, min_col=1, max_col=1, min_row=5, max_row=8)\n",
    "    bar_chart.add_data(data, titles_from_data=True)\n",
    "    bar_chart.set_categories(categories)\n",
    "    sheet1.add_chart(bar_chart, \"F4\")\n",
    "\n",
    "    bar_chart.title = 'Sales by Type'\n",
    "    bar_chart.style = 3\n",
    "    wb.save(file_path)"
   ]
  },
  {
   "source": [
    "fuente: https://towardsdatascience.com/automate-excel-reporting-with-python-233dd61fb0f2"
   ],
   "cell_type": "markdown",
   "metadata": {}
  }
 ]
}