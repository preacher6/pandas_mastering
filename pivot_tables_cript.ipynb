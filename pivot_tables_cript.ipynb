{
 "metadata": {
  "language_info": {
   "codemirror_mode": {
    "name": "ipython",
    "version": 3
   },
   "file_extension": ".py",
   "mimetype": "text/x-python",
   "name": "python",
   "nbconvert_exporter": "python",
   "pygments_lexer": "ipython3",
   "version": "3.8.6-final"
  },
  "orig_nbformat": 2,
  "kernelspec": {
   "name": "python3",
   "display_name": "Python 3",
   "language": "python"
  }
 },
 "nbformat": 4,
 "nbformat_minor": 2,
 "cells": [
  {
   "cell_type": "code",
   "execution_count": 5,
   "metadata": {},
   "outputs": [
    {
     "output_type": "stream",
     "name": "stdout",
     "text": [
      "        Date Region                 Type  Units  Sales\n0 2020-07-11   East  Children's Clothing   18.0    306\n1 2020-09-23  North  Children's Clothing   14.0    448\n2 2020-04-02  South     Women's Clothing   17.0    425\n3 2020-02-28   East  Children's Clothing   26.0    832\n4 2020-03-19   West     Women's Clothing    3.0     33\n"
     ]
    }
   ],
   "source": [
    "import pandas as pd\n",
    "\n",
    "df = pd.read_excel('https://github.com/datagy/pivot_table_pandas/raw/master/sample_pivot.xlsx', parse_dates=['Date']) \n",
    "print(df.head())"
   ]
  },
  {
   "cell_type": "code",
   "execution_count": 7,
   "metadata": {},
   "outputs": [
    {
     "output_type": "stream",
     "name": "stdout",
     "text": [
      "             Sales\nRegion            \nEast    408.182482\nNorth   438.924051\nSouth   432.956204\nWest    452.029412\n"
     ]
    }
   ],
   "source": [
    "sales_by_region = pd.pivot_table(df, index = 'Region', values = 'Sales') \n",
    "print(sales_by_region)"
   ]
  },
  {
   "cell_type": "code",
   "execution_count": 8,
   "metadata": {},
   "outputs": [
    {
     "output_type": "stream",
     "name": "stdout",
     "text": [
      "         Sales\nRegion        \nEast    167763\nNorth   138700\nSouth    59315\nWest     61476\n"
     ]
    }
   ],
   "source": [
    "total_by_region = pd.pivot_table(df, index = 'Region', values = 'Sales', aggfunc='sum') \n",
    "print(total_by_region)\n"
   ]
  },
  {
   "cell_type": "code",
   "execution_count": 9,
   "metadata": {},
   "outputs": [
    {
     "output_type": "execute_result",
     "data": {
      "text/plain": [
       "  Region       Sales\n",
       "0   East  408.182482\n",
       "1  North  438.924051\n",
       "2  South  432.956204\n",
       "3   West  452.029412"
      ],
      "text/html": "<div>\n<style scoped>\n    .dataframe tbody tr th:only-of-type {\n        vertical-align: middle;\n    }\n\n    .dataframe tbody tr th {\n        vertical-align: top;\n    }\n\n    .dataframe thead th {\n        text-align: right;\n    }\n</style>\n<table border=\"1\" class=\"dataframe\">\n  <thead>\n    <tr style=\"text-align: right;\">\n      <th></th>\n      <th>Region</th>\n      <th>Sales</th>\n    </tr>\n  </thead>\n  <tbody>\n    <tr>\n      <th>0</th>\n      <td>East</td>\n      <td>408.182482</td>\n    </tr>\n    <tr>\n      <th>1</th>\n      <td>North</td>\n      <td>438.924051</td>\n    </tr>\n    <tr>\n      <th>2</th>\n      <td>South</td>\n      <td>432.956204</td>\n    </tr>\n    <tr>\n      <th>3</th>\n      <td>West</td>\n      <td>452.029412</td>\n    </tr>\n  </tbody>\n</table>\n</div>"
     },
     "metadata": {},
     "execution_count": 9
    }
   ],
   "source": [
    "sales_by_region.reset_index()"
   ]
  },
  {
   "cell_type": "code",
   "execution_count": 11,
   "metadata": {},
   "outputs": [
    {
     "output_type": "stream",
     "name": "stdout",
     "text": [
      "             Sales\nRegion            \nEast    408.182482\nNorth   438.924051\nSouth   432.956204\nWest    452.029412\n"
     ]
    }
   ],
   "source": [
    "avg_region_price = pd.pivot_table(df, index = 'Region', values = 'Sales')\n",
    "print(avg_region_price)\n"
   ]
  },
  {
   "cell_type": "code",
   "execution_count": 12,
   "metadata": {},
   "outputs": [
    {
     "output_type": "execute_result",
     "data": {
      "text/plain": [
       "             Sales\n",
       "Region            \n",
       "West    452.029412"
      ],
      "text/html": "<div>\n<style scoped>\n    .dataframe tbody tr th:only-of-type {\n        vertical-align: middle;\n    }\n\n    .dataframe tbody tr th {\n        vertical-align: top;\n    }\n\n    .dataframe thead th {\n        text-align: right;\n    }\n</style>\n<table border=\"1\" class=\"dataframe\">\n  <thead>\n    <tr style=\"text-align: right;\">\n      <th></th>\n      <th>Sales</th>\n    </tr>\n    <tr>\n      <th>Region</th>\n      <th></th>\n    </tr>\n  </thead>\n  <tbody>\n    <tr>\n      <th>West</th>\n      <td>452.029412</td>\n    </tr>\n  </tbody>\n</table>\n</div>"
     },
     "metadata": {},
     "execution_count": 12
    }
   ],
   "source": [
    "avg_region_price[avg_region_price['Sales'] > 450]"
   ]
  },
  {
   "cell_type": "code",
   "execution_count": 13,
   "metadata": {},
   "outputs": [
    {
     "output_type": "execute_result",
     "data": {
      "text/plain": [
       "             Sales\n",
       "Region            \n",
       "East    408.182482\n",
       "West    452.029412"
      ],
      "text/html": "<div>\n<style scoped>\n    .dataframe tbody tr th:only-of-type {\n        vertical-align: middle;\n    }\n\n    .dataframe tbody tr th {\n        vertical-align: top;\n    }\n\n    .dataframe thead th {\n        text-align: right;\n    }\n</style>\n<table border=\"1\" class=\"dataframe\">\n  <thead>\n    <tr style=\"text-align: right;\">\n      <th></th>\n      <th>Sales</th>\n    </tr>\n    <tr>\n      <th>Region</th>\n      <th></th>\n    </tr>\n  </thead>\n  <tbody>\n    <tr>\n      <th>East</th>\n      <td>408.182482</td>\n    </tr>\n    <tr>\n      <th>West</th>\n      <td>452.029412</td>\n    </tr>\n  </tbody>\n</table>\n</div>"
     },
     "metadata": {},
     "execution_count": 13
    }
   ],
   "source": [
    "avg_region_price[(avg_region_price['Sales'] > 450) | (avg_region_price['Sales'] < 430)]"
   ]
  },
  {
   "cell_type": "code",
   "execution_count": 15,
   "metadata": {},
   "outputs": [
    {
     "output_type": "stream",
     "name": "stdout",
     "text": [
      "                            Sales\nRegion Type                      \nEast   Children's Clothing  45849\n       Men's Clothing       51685\n       Women's Clothing     70229\nNorth  Children's Clothing  37306\n       Men's Clothing       39975\n       Women's Clothing     61419\nSouth  Children's Clothing  18570\n       Men's Clothing       18542\n       Women's Clothing     22203\nWest   Children's Clothing  20182\n       Men's Clothing       19077\n       Women's Clothing     22217\n"
     ]
    }
   ],
   "source": [
    "multi_index = pd.pivot_table(df, index = ['Region', 'Type'], values = 'Sales', aggfunc = 'sum') \n",
    "print(multi_index)"
   ]
  },
  {
   "cell_type": "code",
   "execution_count": 16,
   "metadata": {},
   "outputs": [
    {
     "output_type": "stream",
     "name": "stdout",
     "text": [
      "                              sum   len\n                            Sales Sales\nRegion Type                            \nEast   Children's Clothing  45849   113\n       Men's Clothing       51685   122\n       Women's Clothing     70229   176\nNorth  Children's Clothing  37306    85\n       Men's Clothing       39975    89\n       Women's Clothing     61419   142\nSouth  Children's Clothing  18570    45\n       Men's Clothing       18542    39\n       Women's Clothing     22203    53\nWest   Children's Clothing  20182    42\n       Men's Clothing       19077    41\n       Women's Clothing     22217    53\n"
     ]
    }
   ],
   "source": [
    "multi_functions = pd.pivot_table(df, index = ['Region', 'Type'], values = 'Sales', aggfunc = ['sum', len]) \n",
    "print(multi_functions)"
   ]
  }
 ]
}